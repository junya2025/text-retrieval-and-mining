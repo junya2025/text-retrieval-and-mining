{
  "cells": [
    {
      "cell_type": "markdown",
      "metadata": {
        "id": "fLiLdCMlPeu9"
      },
      "source": [
        "# Tutorial I - Text Processing and Information Retrieval"
      ]
    },
    {
      "cell_type": "markdown",
      "metadata": {
        "id": "gq_TLZUaOw6G"
      },
      "source": [
        "**Duration:** 1.5 hour\n",
        "\n",
        "**Prerequisites:** Basic Python knowledge, familiarity with pandas and numpy\n",
        "\n",
        "**Learning Objectives**\n",
        "*   Understand basic text preprocessing techniques\n",
        "*   Implement text cleaning and normalization\n",
        "*   Calculate TF-IDF scores\n",
        "*   Create a simple document search system\n",
        "\n",
        "\n"
      ]
    },
    {
      "cell_type": "markdown",
      "metadata": {
        "id": "6JQLYRwwPyzB"
      },
      "source": [
        "## Setup"
      ]
    },
    {
      "cell_type": "code",
      "execution_count": 1,
      "metadata": {
        "id": "Ei_X9mI8Ostb"
      },
      "outputs": [],
      "source": [
        "import re\n",
        "import numpy as np\n",
        "import pandas as pd\n",
        "from sklearn.feature_extraction.text import TfidfVectorizer"
      ]
    },
    {
      "cell_type": "markdown",
      "metadata": {
        "id": "HLZOOmQBP8RG"
      },
      "source": [
        "## Exercise 1: Text Cleaning (20 minutes)\n",
        "Implement a function that cleans text by:\n",
        "\n",
        "\n",
        "*   Converting to lowercase\n",
        "*   Removing special characters\n",
        "*   Removing extra whitespace\n",
        "*   Removing HTML tags (hint: look for content between < and >)"
      ]
    },
    {
      "cell_type": "code",
      "execution_count": 7,
      "metadata": {},
      "outputs": [
        {
          "name": "stdout",
          "output_type": "stream",
          "text": [
            "pthis is a sample text ith html tagsp special chars\n"
          ]
        }
      ],
      "source": [
        "text = \"\"\"<p>This is a    Sample Text ith HTML tags</p> & special chars!!\"\"\"\n",
        "text = str(text.lower())\n",
        "text = re.sub(r\"[^a-z0-9\\s]\", \"\", text) #remove special chars\n",
        "text = re.sub(r\"\\s+\", \" \", text) #remove whitespace\n",
        "text = re.sub(r\"<[^<]+?>\", \"\", text) #remove HTML tags\n",
        "\n",
        "\n",
        "print(text)"
      ]
    },
    {
      "cell_type": "code",
      "execution_count": 8,
      "metadata": {
        "id": "nw4tpqblOx3q"
      },
      "outputs": [
        {
          "name": "stdout",
          "output_type": "stream",
          "text": [
            "Original: <p>This is a    Sample Text\n",
            "with HTML tags</p> & special chars!!!\n",
            "Cleaned: pthis is a sample text with html tagsp special chars\n"
          ]
        }
      ],
      "source": [
        "def clean_text(text):\n",
        "    \"\"\"\n",
        "    Clean and normalize text data.\n",
        "\n",
        "    Args:\n",
        "        text (str): Input text to clean\n",
        "\n",
        "    Returns:\n",
        "        str: Cleaned text\n",
        "    \"\"\"\n",
        "    text = text.lower() \n",
        "    text = re.sub(r\"[^a-z0-9\\s]\", \"\", text)  #remove special chars\n",
        "    text = re.sub(r\"\\s+\", \" \", text)         #remove whitespace\n",
        "    text = re.sub(r\"<[^<]+?>\", \"\", text)     #remove HTML tags\n",
        "\n",
        "    return text\n",
        "\n",
        "    pass\n",
        "\n",
        "# Test your function\n",
        "test_text = \"\"\"<p>This is a    Sample Text\n",
        "with HTML tags</p> & special chars!!!\"\"\"\n",
        "print(\"Original:\", test_text)\n",
        "print(\"Cleaned:\", clean_text(test_text))"
      ]
    },
    {
      "cell_type": "markdown",
      "metadata": {
        "id": "v5ShpLFVQUv9"
      },
      "source": [
        "## Exercise 2: Building a TF-IDF Search Engine  (30 minutes)\n",
        "Create a simple search engine using TF-IDF to find relevant documents."
      ]
    },
    {
      "cell_type": "code",
      "execution_count": null,
      "metadata": {
        "id": "ofx6tdRVQQcD"
      },
      "outputs": [],
      "source": [
        "class SimpleSearchEngine:\n",
        "    def __init__(self):\n",
        "        \"\"\"Initialize the search engine with TF-IDF vectorizer\"\"\"\n",
        "        self.vectorizer = TfidfVectorizer()\n",
        "        self.documents = []\n",
        "        pass\n",
        "\n",
        "    def add_documents(self, documents):\n",
        "        \"\"\"\n",
        "        Add documents to the search engine\n",
        "\n",
        "        Args:\n",
        "            documents (list): List of text documents\n",
        "        \"\"\"\n",
        "        # Your code here\n",
        "        pass\n",
        "\n",
        "    def search(self, query, top_k=2):\n",
        "        \"\"\"\n",
        "        Search for documents most relevant to query\n",
        "\n",
        "        Args:\n",
        "            query (str): Search query\n",
        "            top_k (int): Number of results to return\n",
        "\n",
        "        Returns:\n",
        "            list: Indices of top_k most relevant documents\n",
        "        \"\"\"\n",
        "        # Your code here\n",
        "        pass\n",
        "\n",
        "# Test documents\n",
        "documents = [\n",
        "    \"The cat and the dog play\",\n",
        "    \"The dog chases a ball\",\n",
        "    \"A cat naps in the sun\",\n",
        "]\n",
        "\n",
        "# Create and test your search engine\n",
        "search_engine = SimpleSearchEngine()\n",
        "search_engine.add_documents(documents)\n",
        "results = search_engine.search(\"cat playing\")\n",
        "print(\"Search Results:\", results)"
      ]
    },
    {
      "cell_type": "markdown",
      "metadata": {
        "id": "SHvCYlIURbMt"
      },
      "source": [
        "## Exercise 3: Document Similarity (20 minutes)\n",
        "Implement a function to find similar documents using cosine similarity."
      ]
    },
    {
      "cell_type": "code",
      "execution_count": null,
      "metadata": {
        "id": "Mpy9GOOYRDiQ"
      },
      "outputs": [],
      "source": [
        "def calculate_similarity(doc1, doc2):\n",
        "    \"\"\"\n",
        "    Calculate cosine similarity between two documents\n",
        "\n",
        "    Args:\n",
        "        doc1 (str): First document\n",
        "        doc2 (str): Second document\n",
        "\n",
        "    Returns:\n",
        "        float: Similarity score between 0 and 1\n",
        "    \"\"\"\n",
        "    # Your code here\n",
        "    pass\n",
        "\n",
        "# Test documents\n",
        "doc1 = \"The quick brown fox jumps over the lazy dog\"\n",
        "doc2 = \"The fast brown fox leaps over the sleepy dog\"\n",
        "doc3 = \"Python programming is fun and interesting\"\n",
        "\n",
        "print(\"Similarity score (similar docs):\", calculate_similarity(doc1, doc2))\n",
        "print(\"Similarity score (different docs):\", calculate_similarity(doc1, doc3))"
      ]
    },
    {
      "cell_type": "markdown",
      "metadata": {
        "id": "Ska2wStqRqWP"
      },
      "source": [
        "## Exercise 4: Putting It All Together (20 minutes)\n",
        "Use everything you've learned to create a complete document processing pipeline."
      ]
    },
    {
      "cell_type": "code",
      "execution_count": null,
      "metadata": {
        "id": "4YdI10woRiO2"
      },
      "outputs": [],
      "source": [
        "def process_documents(documents):\n",
        "    \"\"\"\n",
        "    Process a collection of documents:\n",
        "    1. Clean each document\n",
        "    2. Calculate TF-IDF\n",
        "    3. Find most similar document pairs\n",
        "\n",
        "    Args:\n",
        "        documents (list): List of text documents\n",
        "\n",
        "    Returns:\n",
        "        tuple: (processed_docs, similarity_matrix)\n",
        "    \"\"\"\n",
        "    # Your code here\n",
        "    pass\n",
        "\n",
        "# Test the complete pipeline\n",
        "test_docs = [\n",
        "    \"The quick brown fox jumps over the lazy dog.\",\n",
        "    \"<p>A quick brown fox leaps over a lazy dog!</p>\",\n",
        "    \"Programming in Python: A beginner's guide to coding\",\n",
        "    \"Python programming tutorial for beginners\"\n",
        "]\n",
        "\n",
        "processed_docs, similarity_matrix = process_documents(test_docs)\n",
        "print(\"Processed Documents:\", processed_docs)\n",
        "print(\"\\nSimilarity Matrix:\\n\", similarity_matrix)"
      ]
    },
    {
      "cell_type": "code",
      "execution_count": null,
      "metadata": {
        "id": "YX_ZWYvrSFlC"
      },
      "outputs": [],
      "source": []
    }
  ],
  "metadata": {
    "colab": {
      "provenance": []
    },
    "kernelspec": {
      "display_name": "Python 3",
      "language": "python",
      "name": "python3"
    },
    "language_info": {
      "codemirror_mode": {
        "name": "ipython",
        "version": 3
      },
      "file_extension": ".py",
      "mimetype": "text/x-python",
      "name": "python",
      "nbconvert_exporter": "python",
      "pygments_lexer": "ipython3",
      "version": "3.12.1"
    }
  },
  "nbformat": 4,
  "nbformat_minor": 0
}
